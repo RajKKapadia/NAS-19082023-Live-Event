{
 "cells": [
  {
   "cell_type": "code",
   "execution_count": 3,
   "metadata": {},
   "outputs": [],
   "source": [
    "from transformers import AutoTokenizer, AutoModelForSequenceClassification\n",
    "import torch"
   ]
  },
  {
   "cell_type": "code",
   "execution_count": 4,
   "metadata": {},
   "outputs": [
    {
     "data": {
      "text/plain": [
       "'cuda'"
      ]
     },
     "execution_count": 4,
     "metadata": {},
     "output_type": "execute_result"
    }
   ],
   "source": [
    "DEVICE = 'cuda' if torch.cuda.is_available() else 'cpu'\n",
    "\n",
    "DEVICE"
   ]
  },
  {
   "cell_type": "code",
   "execution_count": 5,
   "metadata": {},
   "outputs": [
    {
     "name": "stderr",
     "output_type": "stream",
     "text": [
      "Downloading (…)okenizer_config.json: 100%|██████████| 380/380 [00:00<00:00, 99.3kB/s]\n",
      "Downloading (…)olve/main/vocab.json: 100%|██████████| 798k/798k [00:00<00:00, 1.02MB/s]\n",
      "Downloading (…)olve/main/merges.txt: 100%|██████████| 456k/456k [00:00<00:00, 16.8MB/s]\n",
      "Downloading (…)/main/tokenizer.json: 100%|██████████| 2.11M/2.11M [00:00<00:00, 7.28MB/s]\n",
      "Downloading (…)cial_tokens_map.json: 100%|██████████| 280/280 [00:00<00:00, 196kB/s]\n",
      "Downloading (…)lve/main/config.json: 100%|██████████| 1.92k/1.92k [00:00<00:00, 1.04MB/s]\n",
      "Downloading pytorch_model.bin: 100%|██████████| 499M/499M [00:43<00:00, 11.5MB/s] \n"
     ]
    },
    {
     "data": {
      "text/plain": [
       "RobertaForSequenceClassification(\n",
       "  (roberta): RobertaModel(\n",
       "    (embeddings): RobertaEmbeddings(\n",
       "      (word_embeddings): Embedding(50265, 768, padding_idx=1)\n",
       "      (position_embeddings): Embedding(514, 768, padding_idx=1)\n",
       "      (token_type_embeddings): Embedding(1, 768)\n",
       "      (LayerNorm): LayerNorm((768,), eps=1e-05, elementwise_affine=True)\n",
       "      (dropout): Dropout(p=0.1, inplace=False)\n",
       "    )\n",
       "    (encoder): RobertaEncoder(\n",
       "      (layer): ModuleList(\n",
       "        (0-11): 12 x RobertaLayer(\n",
       "          (attention): RobertaAttention(\n",
       "            (self): RobertaSelfAttention(\n",
       "              (query): Linear(in_features=768, out_features=768, bias=True)\n",
       "              (key): Linear(in_features=768, out_features=768, bias=True)\n",
       "              (value): Linear(in_features=768, out_features=768, bias=True)\n",
       "              (dropout): Dropout(p=0.1, inplace=False)\n",
       "            )\n",
       "            (output): RobertaSelfOutput(\n",
       "              (dense): Linear(in_features=768, out_features=768, bias=True)\n",
       "              (LayerNorm): LayerNorm((768,), eps=1e-05, elementwise_affine=True)\n",
       "              (dropout): Dropout(p=0.1, inplace=False)\n",
       "            )\n",
       "          )\n",
       "          (intermediate): RobertaIntermediate(\n",
       "            (dense): Linear(in_features=768, out_features=3072, bias=True)\n",
       "            (intermediate_act_fn): GELUActivation()\n",
       "          )\n",
       "          (output): RobertaOutput(\n",
       "            (dense): Linear(in_features=3072, out_features=768, bias=True)\n",
       "            (LayerNorm): LayerNorm((768,), eps=1e-05, elementwise_affine=True)\n",
       "            (dropout): Dropout(p=0.1, inplace=False)\n",
       "          )\n",
       "        )\n",
       "      )\n",
       "    )\n",
       "  )\n",
       "  (classifier): RobertaClassificationHead(\n",
       "    (dense): Linear(in_features=768, out_features=768, bias=True)\n",
       "    (dropout): Dropout(p=0.1, inplace=False)\n",
       "    (out_proj): Linear(in_features=768, out_features=28, bias=True)\n",
       "  )\n",
       ")"
      ]
     },
     "execution_count": 5,
     "metadata": {},
     "output_type": "execute_result"
    }
   ],
   "source": [
    "tokenizer = AutoTokenizer.from_pretrained(\"SamLowe/roberta-base-go_emotions\")\n",
    "model = AutoModelForSequenceClassification.from_pretrained(\"SamLowe/roberta-base-go_emotions\")\n",
    "model.to(DEVICE)"
   ]
  },
  {
   "cell_type": "code",
   "execution_count": 6,
   "metadata": {},
   "outputs": [],
   "source": [
    "query = 'I am not having a great day.'"
   ]
  },
  {
   "cell_type": "code",
   "execution_count": 9,
   "metadata": {},
   "outputs": [
    {
     "data": {
      "text/plain": [
       "{'input_ids': tensor([[  0, 100, 524,  45, 519,  10, 372, 183,   4,   2]], device='cuda:0'), 'attention_mask': tensor([[1, 1, 1, 1, 1, 1, 1, 1, 1, 1]], device='cuda:0')}"
      ]
     },
     "execution_count": 9,
     "metadata": {},
     "output_type": "execute_result"
    }
   ],
   "source": [
    "inputs = tokenizer(query, return_tensors='pt')\n",
    "inputs.to(DEVICE)\n",
    "inputs"
   ]
  },
  {
   "cell_type": "code",
   "execution_count": 10,
   "metadata": {},
   "outputs": [
    {
     "data": {
      "text/plain": [
       "SequenceClassifierOutput(loss=None, logits=tensor([[-5.8912, -6.4097, -5.1344, -2.3781, -4.4519, -5.2010, -5.6352, -6.0904,\n",
       "         -5.8536,  0.0178, -2.8869, -5.3134, -5.1938, -5.9966, -5.9364, -7.3348,\n",
       "         -5.6248, -5.0768, -5.9956, -4.2687, -5.9012, -7.4587, -4.2042, -5.7734,\n",
       "         -5.2262, -0.6325, -6.4586, -2.8483]], device='cuda:0',\n",
       "       grad_fn=<AddmmBackward0>), hidden_states=None, attentions=None)"
      ]
     },
     "execution_count": 10,
     "metadata": {},
     "output_type": "execute_result"
    }
   ],
   "source": [
    "outputs = model(**inputs)\n",
    "outputs"
   ]
  },
  {
   "cell_type": "code",
   "execution_count": 11,
   "metadata": {},
   "outputs": [],
   "source": [
    "sigmod = torch.sigmoid(outputs.logits)"
   ]
  },
  {
   "cell_type": "code",
   "execution_count": 19,
   "metadata": {},
   "outputs": [],
   "source": [
    "outputs = sigmod.detach().cpu().numpy()"
   ]
  },
  {
   "cell_type": "code",
   "execution_count": 20,
   "metadata": {},
   "outputs": [],
   "source": [
    "label2ids = model.config.label2id"
   ]
  },
  {
   "cell_type": "code",
   "execution_count": 21,
   "metadata": {},
   "outputs": [
    {
     "data": {
      "text/plain": [
       "{'admiration': 0,\n",
       " 'amusement': 1,\n",
       " 'anger': 2,\n",
       " 'annoyance': 3,\n",
       " 'approval': 4,\n",
       " 'caring': 5,\n",
       " 'confusion': 6,\n",
       " 'curiosity': 7,\n",
       " 'desire': 8,\n",
       " 'disappointment': 9,\n",
       " 'disapproval': 10,\n",
       " 'disgust': 11,\n",
       " 'embarrassment': 12,\n",
       " 'excitement': 13,\n",
       " 'fear': 14,\n",
       " 'gratitude': 15,\n",
       " 'grief': 16,\n",
       " 'joy': 17,\n",
       " 'love': 18,\n",
       " 'nervousness': 19,\n",
       " 'neutral': 27,\n",
       " 'optimism': 20,\n",
       " 'pride': 21,\n",
       " 'realization': 22,\n",
       " 'relief': 23,\n",
       " 'remorse': 24,\n",
       " 'sadness': 25,\n",
       " 'surprise': 26}"
      ]
     },
     "execution_count": 21,
     "metadata": {},
     "output_type": "execute_result"
    }
   ],
   "source": [
    "label2ids"
   ]
  },
  {
   "cell_type": "code",
   "execution_count": 23,
   "metadata": {},
   "outputs": [],
   "source": [
    "for i, k in enumerate(label2ids.keys()):\n",
    "    label2ids[k] = outputs[0][i]"
   ]
  },
  {
   "cell_type": "code",
   "execution_count": 24,
   "metadata": {},
   "outputs": [
    {
     "data": {
      "text/plain": [
       "{'admiration': 0.0027561018,\n",
       " 'amusement': 0.00164284,\n",
       " 'anger': 0.0058560176,\n",
       " 'annoyance': 0.084857926,\n",
       " 'approval': 0.011522358,\n",
       " 'caring': 0.005480847,\n",
       " 'confusion': 0.0035573165,\n",
       " 'curiosity': 0.002259471,\n",
       " 'desire': 0.002861263,\n",
       " 'disappointment': 0.5044489,\n",
       " 'disapproval': 0.052807186,\n",
       " 'disgust': 0.0049011176,\n",
       " 'embarrassment': 0.0055202344,\n",
       " 'excitement': 0.0024811446,\n",
       " 'fear': 0.0026344326,\n",
       " 'gratitude': 0.0006519977,\n",
       " 'grief': 0.0035944376,\n",
       " 'joy': 0.0062008603,\n",
       " 'love': 0.0024836042,\n",
       " 'nervousness': 0.01380645,\n",
       " 'neutral': 0.0027287717,\n",
       " 'optimism': 0.0005760981,\n",
       " 'pride': 0.014712789,\n",
       " 'realization': 0.0030994583,\n",
       " 'relief': 0.0053450353,\n",
       " 'remorse': 0.3469431,\n",
       " 'sadness': 0.001564508,\n",
       " 'surprise': 0.054766744}"
      ]
     },
     "execution_count": 24,
     "metadata": {},
     "output_type": "execute_result"
    }
   ],
   "source": [
    "label2ids"
   ]
  },
  {
   "cell_type": "code",
   "execution_count": 27,
   "metadata": {},
   "outputs": [],
   "source": [
    "label2ids = {k: v for k, v in sorted(label2ids.items(), key=lambda item: item[1], reverse=True)}"
   ]
  },
  {
   "cell_type": "code",
   "execution_count": 28,
   "metadata": {},
   "outputs": [
    {
     "data": {
      "text/plain": [
       "{'disappointment': 0.5044489,\n",
       " 'remorse': 0.3469431,\n",
       " 'annoyance': 0.084857926,\n",
       " 'surprise': 0.054766744,\n",
       " 'disapproval': 0.052807186,\n",
       " 'pride': 0.014712789,\n",
       " 'nervousness': 0.01380645,\n",
       " 'approval': 0.011522358,\n",
       " 'joy': 0.0062008603,\n",
       " 'anger': 0.0058560176,\n",
       " 'embarrassment': 0.0055202344,\n",
       " 'caring': 0.005480847,\n",
       " 'relief': 0.0053450353,\n",
       " 'disgust': 0.0049011176,\n",
       " 'grief': 0.0035944376,\n",
       " 'confusion': 0.0035573165,\n",
       " 'realization': 0.0030994583,\n",
       " 'desire': 0.002861263,\n",
       " 'admiration': 0.0027561018,\n",
       " 'neutral': 0.0027287717,\n",
       " 'fear': 0.0026344326,\n",
       " 'love': 0.0024836042,\n",
       " 'excitement': 0.0024811446,\n",
       " 'curiosity': 0.002259471,\n",
       " 'amusement': 0.00164284,\n",
       " 'sadness': 0.001564508,\n",
       " 'gratitude': 0.0006519977,\n",
       " 'optimism': 0.0005760981}"
      ]
     },
     "execution_count": 28,
     "metadata": {},
     "output_type": "execute_result"
    }
   ],
   "source": [
    "label2ids"
   ]
  },
  {
   "cell_type": "code",
   "execution_count": null,
   "metadata": {},
   "outputs": [],
   "source": []
  }
 ],
 "metadata": {
  "kernelspec": {
   "display_name": "venv",
   "language": "python",
   "name": "python3"
  },
  "language_info": {
   "codemirror_mode": {
    "name": "ipython",
    "version": 3
   },
   "file_extension": ".py",
   "mimetype": "text/x-python",
   "name": "python",
   "nbconvert_exporter": "python",
   "pygments_lexer": "ipython3",
   "version": "3.9.17"
  },
  "orig_nbformat": 4
 },
 "nbformat": 4,
 "nbformat_minor": 2
}
